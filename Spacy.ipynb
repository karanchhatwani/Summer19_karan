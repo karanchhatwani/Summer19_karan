{
  "nbformat": 4,
  "nbformat_minor": 0,
  "metadata": {
    "colab": {
      "name": "Spacy.ipynb",
      "version": "0.3.2",
      "provenance": [],
      "include_colab_link": true
    },
    "kernelspec": {
      "name": "python3",
      "display_name": "Python 3"
    }
  },
  "cells": [
    {
      "cell_type": "markdown",
      "metadata": {
        "id": "view-in-github",
        "colab_type": "text"
      },
      "source": [
        "<a href=\"https://colab.research.google.com/github/karanchhatwani/Summer19_karan/blob/master/Spacy.ipynb\" target=\"_parent\"><img src=\"https://colab.research.google.com/assets/colab-badge.svg\" alt=\"Open In Colab\"/></a>"
      ]
    },
    {
      "cell_type": "code",
      "metadata": {
        "id": "TKQIdyeuIIog",
        "colab_type": "code",
        "colab": {}
      },
      "source": [
        "import spacy\n",
        "import time"
      ],
      "execution_count": 0,
      "outputs": []
    },
    {
      "cell_type": "code",
      "metadata": {
        "id": "acV9CidBILbB",
        "colab_type": "code",
        "colab": {}
      },
      "source": [
        "nlp=spacy.load('en') # This will use nltk.data folder to load library"
      ],
      "execution_count": 0,
      "outputs": []
    },
    {
      "cell_type": "code",
      "metadata": {
        "id": "drFO9VVAITH7",
        "colab_type": "code",
        "colab": {}
      },
      "source": [
        "data=\"I will do whatever I want even if you say something I will not hear you\" \n",
        "#applying nlp (spacy) on data: means tokenizing itself!\n",
        "process=nlp(data)\n"
      ],
      "execution_count": 0,
      "outputs": []
    },
    {
      "cell_type": "code",
      "metadata": {
        "id": "Q6wQ8MK5IwgV",
        "colab_type": "code",
        "colab": {
          "base_uri": "https://localhost:8080/",
          "height": 552
        },
        "outputId": "c65d74bf-84d3-4461-ed2c-f8c982bebe23"
      },
      "source": [
        "#Checking lemma and POS (Part of speech)\n",
        "for i in process:\n",
        "  print(i,\"--------->>Finding Lemma---------------->>\",i.lemma_)\n",
        "  time.sleep(1)\n",
        "  print(\"POS of word is\", i.pos_)"
      ],
      "execution_count": 19,
      "outputs": [
        {
          "output_type": "stream",
          "text": [
            "I --------->>Finding Lemma---------------->> -PRON-\n",
            "POS of word is PRON\n",
            "will --------->>Finding Lemma---------------->> will\n",
            "POS of word is VERB\n",
            "do --------->>Finding Lemma---------------->> do\n",
            "POS of word is VERB\n",
            "whatever --------->>Finding Lemma---------------->> whatever\n",
            "POS of word is DET\n",
            "I --------->>Finding Lemma---------------->> -PRON-\n",
            "POS of word is PRON\n",
            "want --------->>Finding Lemma---------------->> want\n",
            "POS of word is VERB\n",
            "even --------->>Finding Lemma---------------->> even\n",
            "POS of word is ADV\n",
            "if --------->>Finding Lemma---------------->> if\n",
            "POS of word is ADP\n",
            "you --------->>Finding Lemma---------------->> -PRON-\n",
            "POS of word is PRON\n",
            "say --------->>Finding Lemma---------------->> say\n",
            "POS of word is VERB\n",
            "something --------->>Finding Lemma---------------->> something\n",
            "POS of word is NOUN\n",
            "I --------->>Finding Lemma---------------->> -PRON-\n",
            "POS of word is PRON\n",
            "will --------->>Finding Lemma---------------->> will\n",
            "POS of word is VERB\n",
            "not --------->>Finding Lemma---------------->> not\n",
            "POS of word is ADV\n",
            "hear --------->>Finding Lemma---------------->> hear\n",
            "POS of word is VERB\n",
            "you --------->>Finding Lemma---------------->> -PRON-\n",
            "POS of word is PRON\n"
          ],
          "name": "stdout"
        }
      ]
    },
    {
      "cell_type": "code",
      "metadata": {
        "id": "UP2UdlkNJGnP",
        "colab_type": "code",
        "colab": {}
      },
      "source": [
        ""
      ],
      "execution_count": 0,
      "outputs": []
    }
  ]
}