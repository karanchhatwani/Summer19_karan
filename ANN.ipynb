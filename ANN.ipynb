{
  "nbformat": 4,
  "nbformat_minor": 0,
  "metadata": {
    "colab": {
      "name": "ANN.ipynb",
      "version": "0.3.2",
      "provenance": [],
      "include_colab_link": true
    },
    "kernelspec": {
      "name": "python3",
      "display_name": "Python 3"
    }
  },
  "cells": [
    {
      "cell_type": "markdown",
      "metadata": {
        "id": "view-in-github",
        "colab_type": "text"
      },
      "source": [
        "<a href=\"https://colab.research.google.com/github/karanchhatwani/Summer19_karan/blob/master/ANN.ipynb\" target=\"_parent\"><img src=\"https://colab.research.google.com/assets/colab-badge.svg\" alt=\"Open In Colab\"/></a>"
      ]
    },
    {
      "cell_type": "code",
      "metadata": {
        "id": "JpNTFCaPDmne",
        "colab_type": "code",
        "colab": {}
      },
      "source": [
        ""
      ],
      "execution_count": 0,
      "outputs": []
    },
    {
      "cell_type": "code",
      "metadata": {
        "id": "2s2BkbZeDo-1",
        "colab_type": "code",
        "colab": {}
      },
      "source": [
        "import pandas as pd\n",
        "import matplotlib.pyplot as plt"
      ],
      "execution_count": 0,
      "outputs": []
    },
    {
      "cell_type": "code",
      "metadata": {
        "id": "jOeEMGMJDwyv",
        "colab_type": "code",
        "outputId": "af14427b-32a8-4774-a246-cf667b0af8ad",
        "colab": {
          "base_uri": "https://localhost:8080/",
          "height": 166
        }
      },
      "source": [
        "df=pd.read_csv('bank.csv')\n",
        "df.head(4)"
      ],
      "execution_count": 0,
      "outputs": [
        {
          "output_type": "execute_result",
          "data": {
            "text/html": [
              "<div>\n",
              "<style scoped>\n",
              "    .dataframe tbody tr th:only-of-type {\n",
              "        vertical-align: middle;\n",
              "    }\n",
              "\n",
              "    .dataframe tbody tr th {\n",
              "        vertical-align: top;\n",
              "    }\n",
              "\n",
              "    .dataframe thead th {\n",
              "        text-align: right;\n",
              "    }\n",
              "</style>\n",
              "<table border=\"1\" class=\"dataframe\">\n",
              "  <thead>\n",
              "    <tr style=\"text-align: right;\">\n",
              "      <th></th>\n",
              "      <th>RowNumber</th>\n",
              "      <th>CustomerId</th>\n",
              "      <th>Surname</th>\n",
              "      <th>CreditScore</th>\n",
              "      <th>Geography</th>\n",
              "      <th>Gender</th>\n",
              "      <th>Age</th>\n",
              "      <th>Tenure</th>\n",
              "      <th>Balance</th>\n",
              "      <th>NumOfProducts</th>\n",
              "      <th>HasCrCard</th>\n",
              "      <th>IsActiveMember</th>\n",
              "      <th>EstimatedSalary</th>\n",
              "      <th>Exited</th>\n",
              "    </tr>\n",
              "  </thead>\n",
              "  <tbody>\n",
              "    <tr>\n",
              "      <th>0</th>\n",
              "      <td>1</td>\n",
              "      <td>15634602</td>\n",
              "      <td>Hargrave</td>\n",
              "      <td>619</td>\n",
              "      <td>France</td>\n",
              "      <td>Female</td>\n",
              "      <td>42</td>\n",
              "      <td>2</td>\n",
              "      <td>0.00</td>\n",
              "      <td>1</td>\n",
              "      <td>1</td>\n",
              "      <td>1</td>\n",
              "      <td>101348.88</td>\n",
              "      <td>1</td>\n",
              "    </tr>\n",
              "    <tr>\n",
              "      <th>1</th>\n",
              "      <td>2</td>\n",
              "      <td>15647311</td>\n",
              "      <td>Hill</td>\n",
              "      <td>608</td>\n",
              "      <td>Spain</td>\n",
              "      <td>Female</td>\n",
              "      <td>41</td>\n",
              "      <td>1</td>\n",
              "      <td>83807.86</td>\n",
              "      <td>1</td>\n",
              "      <td>0</td>\n",
              "      <td>1</td>\n",
              "      <td>112542.58</td>\n",
              "      <td>0</td>\n",
              "    </tr>\n",
              "    <tr>\n",
              "      <th>2</th>\n",
              "      <td>3</td>\n",
              "      <td>15619304</td>\n",
              "      <td>Onio</td>\n",
              "      <td>502</td>\n",
              "      <td>France</td>\n",
              "      <td>Female</td>\n",
              "      <td>42</td>\n",
              "      <td>8</td>\n",
              "      <td>159660.80</td>\n",
              "      <td>3</td>\n",
              "      <td>1</td>\n",
              "      <td>0</td>\n",
              "      <td>113931.57</td>\n",
              "      <td>1</td>\n",
              "    </tr>\n",
              "    <tr>\n",
              "      <th>3</th>\n",
              "      <td>4</td>\n",
              "      <td>15701354</td>\n",
              "      <td>Boni</td>\n",
              "      <td>699</td>\n",
              "      <td>France</td>\n",
              "      <td>Female</td>\n",
              "      <td>39</td>\n",
              "      <td>1</td>\n",
              "      <td>0.00</td>\n",
              "      <td>2</td>\n",
              "      <td>0</td>\n",
              "      <td>0</td>\n",
              "      <td>93826.63</td>\n",
              "      <td>0</td>\n",
              "    </tr>\n",
              "  </tbody>\n",
              "</table>\n",
              "</div>"
            ],
            "text/plain": [
              "   RowNumber  CustomerId   Surname  ...  IsActiveMember EstimatedSalary Exited\n",
              "0          1    15634602  Hargrave  ...               1       101348.88      1\n",
              "1          2    15647311      Hill  ...               1       112542.58      0\n",
              "2          3    15619304      Onio  ...               0       113931.57      1\n",
              "3          4    15701354      Boni  ...               0        93826.63      0\n",
              "\n",
              "[4 rows x 14 columns]"
            ]
          },
          "metadata": {
            "tags": []
          },
          "execution_count": 3
        }
      ]
    },
    {
      "cell_type": "code",
      "metadata": {
        "id": "VetrdTGTD3GL",
        "colab_type": "code",
        "colab": {}
      },
      "source": [
        "#removing unwanted data that is columns\n",
        "actual_data=df.iloc[:,3:]\n",
        "\n",
        "# features extract from all remaining data\n",
        "features=actual_data.iloc[:,0:10].values\n",
        "label=actual_data.iloc[:,10].values"
      ],
      "execution_count": 0,
      "outputs": []
    },
    {
      "cell_type": "code",
      "metadata": {
        "id": "jnKBCHLbEIjA",
        "colab_type": "code",
        "colab": {}
      },
      "source": [
        "from sklearn.preprocessing import LabelEncoder, OneHotEncoder"
      ],
      "execution_count": 0,
      "outputs": []
    },
    {
      "cell_type": "code",
      "metadata": {
        "id": "BJCHQWrvFIHO",
        "colab_type": "code",
        "colab": {}
      },
      "source": [
        "country=LabelEncoder()\n",
        "gender=LabelEncoder() #Transforming particular column data (not numeric) into numeric"
      ],
      "execution_count": 0,
      "outputs": []
    },
    {
      "cell_type": "code",
      "metadata": {
        "id": "1TfqW2NkFMSd",
        "colab_type": "code",
        "outputId": "a6445cc6-1a8d-4f74-83d7-9dd0e7ae9820",
        "colab": {
          "base_uri": "https://localhost:8080/",
          "height": 134
        }
      },
      "source": [
        "features[:,1]=country.fit_transform(features[:,1])\n",
        "features #Here france is 0 spain is 2 and germany is 1"
      ],
      "execution_count": 0,
      "outputs": [
        {
          "output_type": "execute_result",
          "data": {
            "text/plain": [
              "array([[619, 0, 'Female', ..., 1, 1, 101348.88],\n",
              "       [608, 2, 'Female', ..., 0, 1, 112542.58],\n",
              "       [502, 0, 'Female', ..., 1, 0, 113931.57],\n",
              "       ...,\n",
              "       [709, 0, 'Female', ..., 0, 1, 42085.58],\n",
              "       [772, 1, 'Male', ..., 1, 0, 92888.52],\n",
              "       [792, 0, 'Female', ..., 1, 0, 38190.78]], dtype=object)"
            ]
          },
          "metadata": {
            "tags": []
          },
          "execution_count": 7
        }
      ]
    },
    {
      "cell_type": "code",
      "metadata": {
        "id": "tZKlV_xtFPC3",
        "colab_type": "code",
        "outputId": "f5550157-ae13-47e3-80e6-831d7db9b605",
        "colab": {
          "base_uri": "https://localhost:8080/",
          "height": 134
        }
      },
      "source": [
        "features[:,2]=gender.fit_transform(features[:,2])\n",
        "features #Here female is 0 and male is 1"
      ],
      "execution_count": 0,
      "outputs": [
        {
          "output_type": "execute_result",
          "data": {
            "text/plain": [
              "array([[619, 0, 0, ..., 1, 1, 101348.88],\n",
              "       [608, 2, 0, ..., 0, 1, 112542.58],\n",
              "       [502, 0, 0, ..., 1, 0, 113931.57],\n",
              "       ...,\n",
              "       [709, 0, 0, ..., 0, 1, 42085.58],\n",
              "       [772, 1, 1, ..., 1, 0, 92888.52],\n",
              "       [792, 0, 0, ..., 1, 0, 38190.78]], dtype=object)"
            ]
          },
          "metadata": {
            "tags": []
          },
          "execution_count": 8
        }
      ]
    },
    {
      "cell_type": "code",
      "metadata": {
        "id": "4ntTImmSHUVg",
        "colab_type": "code",
        "colab": {}
      },
      "source": [
        "contenc=OneHotEncoder(categorical_features=[1])"
      ],
      "execution_count": 0,
      "outputs": []
    },
    {
      "cell_type": "code",
      "metadata": {
        "id": "c26HBwLhHaNh",
        "colab_type": "code",
        "outputId": "69e7f520-ef2c-4746-e640-4fe0f84e095d",
        "colab": {
          "base_uri": "https://localhost:8080/",
          "height": 137
        }
      },
      "source": [
        "features=contenc.fit_transform(features).toarray() #passing features data"
      ],
      "execution_count": 0,
      "outputs": [
        {
          "output_type": "stream",
          "text": [
            "/usr/local/lib/python3.6/dist-packages/sklearn/preprocessing/_encoders.py:415: FutureWarning: The handling of integer data will change in version 0.22. Currently, the categories are determined based on the range [0, max(values)], while in the future they will be determined based on the unique values.\n",
            "If you want the future behaviour and silence this warning, you can specify \"categories='auto'\".\n",
            "In case you used a LabelEncoder before this OneHotEncoder to convert the categories to integers, then you can now use the OneHotEncoder directly.\n",
            "  warnings.warn(msg, FutureWarning)\n",
            "/usr/local/lib/python3.6/dist-packages/sklearn/preprocessing/_encoders.py:451: DeprecationWarning: The 'categorical_features' keyword is deprecated in version 0.20 and will be removed in 0.22. You can use the ColumnTransformer instead.\n",
            "  \"use the ColumnTransformer instead.\", DeprecationWarning)\n"
          ],
          "name": "stderr"
        }
      ]
    },
    {
      "cell_type": "code",
      "metadata": {
        "id": "puMrpOvpHiR-",
        "colab_type": "code",
        "colab": {}
      },
      "source": [
        "#features.astype(int)\n",
        "features=features[:,1:]"
      ],
      "execution_count": 0,
      "outputs": []
    },
    {
      "cell_type": "code",
      "metadata": {
        "id": "shZ9asUpHk4p",
        "colab_type": "code",
        "colab": {}
      },
      "source": [
        "from sklearn.model_selection import train_test_split"
      ],
      "execution_count": 0,
      "outputs": []
    },
    {
      "cell_type": "code",
      "metadata": {
        "id": "ezFQkLcHHrhy",
        "colab_type": "code",
        "colab": {}
      },
      "source": [
        "X,x,Y,y=train_test_split(features,label,test_size=0.2)"
      ],
      "execution_count": 0,
      "outputs": []
    },
    {
      "cell_type": "code",
      "metadata": {
        "id": "60wBCU8uHyKP",
        "colab_type": "code",
        "colab": {}
      },
      "source": [
        "from sklearn.preprocessing import StandardScaler"
      ],
      "execution_count": 0,
      "outputs": []
    },
    {
      "cell_type": "code",
      "metadata": {
        "id": "_eGR6ZxCIL7K",
        "colab_type": "code",
        "colab": {}
      },
      "source": [
        "sc=StandardScaler()"
      ],
      "execution_count": 0,
      "outputs": []
    },
    {
      "cell_type": "code",
      "metadata": {
        "id": "ndVqZ6wxIOIy",
        "colab_type": "code",
        "colab": {}
      },
      "source": [
        "X=sc.fit_transform(X)"
      ],
      "execution_count": 0,
      "outputs": []
    },
    {
      "cell_type": "code",
      "metadata": {
        "id": "lWkmQ5L6IRts",
        "colab_type": "code",
        "colab": {}
      },
      "source": [
        "x=sc.transform(x)"
      ],
      "execution_count": 0,
      "outputs": []
    },
    {
      "cell_type": "markdown",
      "metadata": {
        "id": "qIQMaJuQIXEt",
        "colab_type": "text"
      },
      "source": [
        "ANN begins"
      ]
    },
    {
      "cell_type": "code",
      "metadata": {
        "id": "_cZY3DeOIU8p",
        "colab_type": "code",
        "outputId": "7b5b53ad-32a1-4a6e-aa94-95d1383acdb0",
        "colab": {
          "base_uri": "https://localhost:8080/",
          "height": 33
        }
      },
      "source": [
        "import keras"
      ],
      "execution_count": 0,
      "outputs": [
        {
          "output_type": "stream",
          "text": [
            "Using TensorFlow backend.\n"
          ],
          "name": "stderr"
        }
      ]
    },
    {
      "cell_type": "code",
      "metadata": {
        "id": "M36PAqJkIa0i",
        "colab_type": "code",
        "colab": {}
      },
      "source": [
        "from keras.models import Sequential"
      ],
      "execution_count": 0,
      "outputs": []
    },
    {
      "cell_type": "code",
      "metadata": {
        "id": "nu-XTGauIiJ8",
        "colab_type": "code",
        "colab": {}
      },
      "source": [
        "from keras.layers import Dense"
      ],
      "execution_count": 0,
      "outputs": []
    },
    {
      "cell_type": "code",
      "metadata": {
        "id": "_NkOOJXTIlDA",
        "colab_type": "code",
        "outputId": "494d048f-c53e-447f-ccb5-62d1d35324a1",
        "colab": {
          "base_uri": "https://localhost:8080/",
          "height": 87
        }
      },
      "source": [
        "clf=Sequential()"
      ],
      "execution_count": 0,
      "outputs": [
        {
          "output_type": "stream",
          "text": [
            "WARNING: Logging before flag parsing goes to stderr.\n",
            "W0623 12:32:40.496435 140299292149632 deprecation_wrapper.py:119] From /usr/local/lib/python3.6/dist-packages/keras/backend/tensorflow_backend.py:74: The name tf.get_default_graph is deprecated. Please use tf.compat.v1.get_default_graph instead.\n",
            "\n"
          ],
          "name": "stderr"
        }
      ]
    },
    {
      "cell_type": "code",
      "metadata": {
        "id": "7Cmvlo5gIoS8",
        "colab_type": "code",
        "outputId": "d8c7589f-ce09-4f40-8d7d-39ed154c7da8",
        "colab": {
          "base_uri": "https://localhost:8080/",
          "height": 104
        }
      },
      "source": [
        "clf.add(Dense(units=6,activation='relu',kernel_initializer='glorot_uniform',input_shape=(11,)))"
      ],
      "execution_count": 0,
      "outputs": [
        {
          "output_type": "stream",
          "text": [
            "W0623 12:32:40.562311 140299292149632 deprecation_wrapper.py:119] From /usr/local/lib/python3.6/dist-packages/keras/backend/tensorflow_backend.py:517: The name tf.placeholder is deprecated. Please use tf.compat.v1.placeholder instead.\n",
            "\n",
            "W0623 12:32:40.585299 140299292149632 deprecation_wrapper.py:119] From /usr/local/lib/python3.6/dist-packages/keras/backend/tensorflow_backend.py:4138: The name tf.random_uniform is deprecated. Please use tf.random.uniform instead.\n",
            "\n"
          ],
          "name": "stderr"
        }
      ]
    },
    {
      "cell_type": "code",
      "metadata": {
        "id": "J8v6_GwZI4ZO",
        "colab_type": "code",
        "colab": {}
      },
      "source": [
        "clf.add(Dense(units=6,activation='relu',kernel_initializer='glorot_uniform'))"
      ],
      "execution_count": 0,
      "outputs": []
    },
    {
      "cell_type": "code",
      "metadata": {
        "id": "R4kpe9zyJaN8",
        "colab_type": "code",
        "colab": {}
      },
      "source": [
        "#now finalizing output layer\n",
        "clf.add(Dense(units=1,activation='sigmoid'))"
      ],
      "execution_count": 0,
      "outputs": []
    },
    {
      "cell_type": "code",
      "metadata": {
        "id": "ITIyfTWuMP7F",
        "colab_type": "code",
        "outputId": "d85ec84f-e6d5-4f5a-f212-8d8336451e6a",
        "colab": {
          "base_uri": "https://localhost:8080/",
          "height": 154
        }
      },
      "source": [
        "#Compile the created model\n",
        "clf.compile(optimizer='adam',loss='binary_crossentropy',metrics=['accuracy'])"
      ],
      "execution_count": 0,
      "outputs": [
        {
          "output_type": "stream",
          "text": [
            "W0623 12:32:40.672742 140299292149632 deprecation_wrapper.py:119] From /usr/local/lib/python3.6/dist-packages/keras/optimizers.py:790: The name tf.train.Optimizer is deprecated. Please use tf.compat.v1.train.Optimizer instead.\n",
            "\n",
            "W0623 12:32:40.701238 140299292149632 deprecation_wrapper.py:119] From /usr/local/lib/python3.6/dist-packages/keras/backend/tensorflow_backend.py:3376: The name tf.log is deprecated. Please use tf.math.log instead.\n",
            "\n",
            "W0623 12:32:40.707511 140299292149632 deprecation.py:323] From /usr/local/lib/python3.6/dist-packages/tensorflow/python/ops/nn_impl.py:180: add_dispatch_support.<locals>.wrapper (from tensorflow.python.ops.array_ops) is deprecated and will be removed in a future version.\n",
            "Instructions for updating:\n",
            "Use tf.where in 2.0, which has the same broadcast rule as np.where\n"
          ],
          "name": "stderr"
        }
      ]
    },
    {
      "cell_type": "code",
      "metadata": {
        "id": "us_fVYBcQfD3",
        "colab_type": "code",
        "colab": {}
      },
      "source": [
        "#optimizer stoachtis gradi, loss == multiple output compare, metrics = accuracy in\n",
        "#each step"
      ],
      "execution_count": 0,
      "outputs": []
    },
    {
      "cell_type": "code",
      "metadata": {
        "id": "SV3B86j_RIjS",
        "colab_type": "code",
        "colab": {}
      },
      "source": [
        "#fitting features and label data"
      ],
      "execution_count": 0,
      "outputs": []
    },
    {
      "cell_type": "code",
      "metadata": {
        "id": "pvFotxUERLf1",
        "colab_type": "code",
        "outputId": "ebb4682a-15fe-4ea4-bcdf-d582065579a3",
        "colab": {
          "base_uri": "https://localhost:8080/",
          "height": 3432
        }
      },
      "source": [
        "clf.fit(X,Y,batch_size=10,epochs=100)"
      ],
      "execution_count": 0,
      "outputs": [
        {
          "output_type": "stream",
          "text": [
            "W0623 12:32:40.986661 140299292149632 deprecation_wrapper.py:119] From /usr/local/lib/python3.6/dist-packages/keras/backend/tensorflow_backend.py:986: The name tf.assign_add is deprecated. Please use tf.compat.v1.assign_add instead.\n",
            "\n"
          ],
          "name": "stderr"
        },
        {
          "output_type": "stream",
          "text": [
            "Epoch 1/100\n",
            "8000/8000 [==============================] - 2s 210us/step - loss: 0.5034 - acc: 0.7890\n",
            "Epoch 2/100\n",
            "8000/8000 [==============================] - 1s 118us/step - loss: 0.4385 - acc: 0.8096\n",
            "Epoch 3/100\n",
            "8000/8000 [==============================] - 1s 117us/step - loss: 0.4240 - acc: 0.8172\n",
            "Epoch 4/100\n",
            "8000/8000 [==============================] - 1s 119us/step - loss: 0.4149 - acc: 0.8217\n",
            "Epoch 5/100\n",
            "8000/8000 [==============================] - 1s 117us/step - loss: 0.4086 - acc: 0.8266\n",
            "Epoch 6/100\n",
            "8000/8000 [==============================] - 1s 118us/step - loss: 0.4012 - acc: 0.8317\n",
            "Epoch 7/100\n",
            "8000/8000 [==============================] - 1s 120us/step - loss: 0.3912 - acc: 0.8367\n",
            "Epoch 8/100\n",
            "8000/8000 [==============================] - 1s 120us/step - loss: 0.3775 - acc: 0.8464\n",
            "Epoch 9/100\n",
            "8000/8000 [==============================] - 1s 117us/step - loss: 0.3635 - acc: 0.8525\n",
            "Epoch 10/100\n",
            "8000/8000 [==============================] - 1s 118us/step - loss: 0.3534 - acc: 0.8591\n",
            "Epoch 11/100\n",
            "8000/8000 [==============================] - 1s 118us/step - loss: 0.3481 - acc: 0.8616\n",
            "Epoch 12/100\n",
            "8000/8000 [==============================] - 1s 117us/step - loss: 0.3449 - acc: 0.8612\n",
            "Epoch 13/100\n",
            "8000/8000 [==============================] - 1s 119us/step - loss: 0.3431 - acc: 0.8616\n",
            "Epoch 14/100\n",
            "8000/8000 [==============================] - 1s 118us/step - loss: 0.3411 - acc: 0.8617\n",
            "Epoch 15/100\n",
            "8000/8000 [==============================] - 1s 119us/step - loss: 0.3411 - acc: 0.8615\n",
            "Epoch 16/100\n",
            "8000/8000 [==============================] - 1s 119us/step - loss: 0.3399 - acc: 0.8625\n",
            "Epoch 17/100\n",
            "8000/8000 [==============================] - 1s 121us/step - loss: 0.3395 - acc: 0.8625\n",
            "Epoch 18/100\n",
            "8000/8000 [==============================] - 1s 118us/step - loss: 0.3387 - acc: 0.8642\n",
            "Epoch 19/100\n",
            "8000/8000 [==============================] - 1s 118us/step - loss: 0.3377 - acc: 0.8617\n",
            "Epoch 20/100\n",
            "8000/8000 [==============================] - 1s 118us/step - loss: 0.3373 - acc: 0.8640\n",
            "Epoch 21/100\n",
            "8000/8000 [==============================] - 1s 117us/step - loss: 0.3367 - acc: 0.8622\n",
            "Epoch 22/100\n",
            "8000/8000 [==============================] - 1s 117us/step - loss: 0.3360 - acc: 0.8632\n",
            "Epoch 23/100\n",
            "8000/8000 [==============================] - 1s 115us/step - loss: 0.3352 - acc: 0.8631\n",
            "Epoch 24/100\n",
            "8000/8000 [==============================] - 1s 117us/step - loss: 0.3355 - acc: 0.8629\n",
            "Epoch 25/100\n",
            "8000/8000 [==============================] - 1s 118us/step - loss: 0.3350 - acc: 0.8635\n",
            "Epoch 26/100\n",
            "8000/8000 [==============================] - 1s 117us/step - loss: 0.3347 - acc: 0.8645\n",
            "Epoch 27/100\n",
            "8000/8000 [==============================] - 1s 117us/step - loss: 0.3350 - acc: 0.8637\n",
            "Epoch 28/100\n",
            "8000/8000 [==============================] - 1s 118us/step - loss: 0.3342 - acc: 0.8637\n",
            "Epoch 29/100\n",
            "8000/8000 [==============================] - 1s 120us/step - loss: 0.3339 - acc: 0.8634\n",
            "Epoch 30/100\n",
            "8000/8000 [==============================] - 1s 118us/step - loss: 0.3339 - acc: 0.8621\n",
            "Epoch 31/100\n",
            "8000/8000 [==============================] - 1s 116us/step - loss: 0.3338 - acc: 0.8611\n",
            "Epoch 32/100\n",
            "8000/8000 [==============================] - 1s 119us/step - loss: 0.3339 - acc: 0.8631\n",
            "Epoch 33/100\n",
            "8000/8000 [==============================] - 1s 118us/step - loss: 0.3333 - acc: 0.8627\n",
            "Epoch 34/100\n",
            "8000/8000 [==============================] - 1s 118us/step - loss: 0.3330 - acc: 0.8632\n",
            "Epoch 35/100\n",
            "8000/8000 [==============================] - 1s 120us/step - loss: 0.3334 - acc: 0.8640\n",
            "Epoch 36/100\n",
            "8000/8000 [==============================] - 1s 119us/step - loss: 0.3327 - acc: 0.8629\n",
            "Epoch 37/100\n",
            "8000/8000 [==============================] - 1s 118us/step - loss: 0.3327 - acc: 0.8645\n",
            "Epoch 38/100\n",
            "8000/8000 [==============================] - 1s 117us/step - loss: 0.3328 - acc: 0.8636\n",
            "Epoch 39/100\n",
            "8000/8000 [==============================] - 1s 120us/step - loss: 0.3319 - acc: 0.8627\n",
            "Epoch 40/100\n",
            "8000/8000 [==============================] - 1s 120us/step - loss: 0.3321 - acc: 0.8640\n",
            "Epoch 41/100\n",
            "8000/8000 [==============================] - 1s 122us/step - loss: 0.3321 - acc: 0.8634\n",
            "Epoch 42/100\n",
            "8000/8000 [==============================] - 1s 119us/step - loss: 0.3320 - acc: 0.8627\n",
            "Epoch 43/100\n",
            "8000/8000 [==============================] - 1s 118us/step - loss: 0.3318 - acc: 0.8624\n",
            "Epoch 44/100\n",
            "8000/8000 [==============================] - 1s 118us/step - loss: 0.3315 - acc: 0.8631\n",
            "Epoch 45/100\n",
            "8000/8000 [==============================] - 1s 118us/step - loss: 0.3318 - acc: 0.8632\n",
            "Epoch 46/100\n",
            "8000/8000 [==============================] - 1s 117us/step - loss: 0.3313 - acc: 0.8632\n",
            "Epoch 47/100\n",
            "8000/8000 [==============================] - 1s 118us/step - loss: 0.3314 - acc: 0.8634\n",
            "Epoch 48/100\n",
            "8000/8000 [==============================] - 1s 118us/step - loss: 0.3309 - acc: 0.8635\n",
            "Epoch 49/100\n",
            "8000/8000 [==============================] - 1s 118us/step - loss: 0.3308 - acc: 0.8625\n",
            "Epoch 50/100\n",
            "8000/8000 [==============================] - 1s 117us/step - loss: 0.3311 - acc: 0.8625\n",
            "Epoch 51/100\n",
            "8000/8000 [==============================] - 1s 119us/step - loss: 0.3309 - acc: 0.8650\n",
            "Epoch 52/100\n",
            "8000/8000 [==============================] - 1s 121us/step - loss: 0.3306 - acc: 0.8641\n",
            "Epoch 53/100\n",
            "8000/8000 [==============================] - 1s 118us/step - loss: 0.3307 - acc: 0.8634\n",
            "Epoch 54/100\n",
            "8000/8000 [==============================] - 1s 117us/step - loss: 0.3311 - acc: 0.8617\n",
            "Epoch 55/100\n",
            "8000/8000 [==============================] - 1s 117us/step - loss: 0.3308 - acc: 0.8617\n",
            "Epoch 56/100\n",
            "8000/8000 [==============================] - 1s 118us/step - loss: 0.3305 - acc: 0.8642\n",
            "Epoch 57/100\n",
            "8000/8000 [==============================] - 1s 120us/step - loss: 0.3305 - acc: 0.8617\n",
            "Epoch 58/100\n",
            "8000/8000 [==============================] - 1s 118us/step - loss: 0.3305 - acc: 0.8625\n",
            "Epoch 59/100\n",
            "8000/8000 [==============================] - 1s 117us/step - loss: 0.3301 - acc: 0.8622\n",
            "Epoch 60/100\n",
            "8000/8000 [==============================] - 1s 119us/step - loss: 0.3302 - acc: 0.8642\n",
            "Epoch 61/100\n",
            "8000/8000 [==============================] - 1s 116us/step - loss: 0.3302 - acc: 0.8640\n",
            "Epoch 62/100\n",
            "8000/8000 [==============================] - 1s 117us/step - loss: 0.3301 - acc: 0.8626\n",
            "Epoch 63/100\n",
            "8000/8000 [==============================] - 1s 118us/step - loss: 0.3298 - acc: 0.8642\n",
            "Epoch 64/100\n",
            "8000/8000 [==============================] - 1s 120us/step - loss: 0.3297 - acc: 0.8637\n",
            "Epoch 65/100\n",
            "8000/8000 [==============================] - 1s 119us/step - loss: 0.3298 - acc: 0.8637\n",
            "Epoch 66/100\n",
            "8000/8000 [==============================] - 1s 118us/step - loss: 0.3299 - acc: 0.8640\n",
            "Epoch 67/100\n",
            "8000/8000 [==============================] - 1s 118us/step - loss: 0.3296 - acc: 0.8624\n",
            "Epoch 68/100\n",
            "8000/8000 [==============================] - 1s 120us/step - loss: 0.3298 - acc: 0.8624\n",
            "Epoch 69/100\n",
            "8000/8000 [==============================] - 1s 117us/step - loss: 0.3295 - acc: 0.8635\n",
            "Epoch 70/100\n",
            "8000/8000 [==============================] - 1s 117us/step - loss: 0.3298 - acc: 0.8640\n",
            "Epoch 71/100\n",
            "8000/8000 [==============================] - 1s 117us/step - loss: 0.3293 - acc: 0.8635\n",
            "Epoch 72/100\n",
            "8000/8000 [==============================] - 1s 116us/step - loss: 0.3297 - acc: 0.8645\n",
            "Epoch 73/100\n",
            "8000/8000 [==============================] - 1s 116us/step - loss: 0.3296 - acc: 0.8637\n",
            "Epoch 74/100\n",
            "8000/8000 [==============================] - 1s 117us/step - loss: 0.3299 - acc: 0.8639\n",
            "Epoch 75/100\n",
            "8000/8000 [==============================] - 1s 118us/step - loss: 0.3300 - acc: 0.8627\n",
            "Epoch 76/100\n",
            "8000/8000 [==============================] - 1s 120us/step - loss: 0.3299 - acc: 0.8655\n",
            "Epoch 77/100\n",
            "8000/8000 [==============================] - 1s 116us/step - loss: 0.3295 - acc: 0.8636\n",
            "Epoch 78/100\n",
            "8000/8000 [==============================] - 1s 119us/step - loss: 0.3298 - acc: 0.8631\n",
            "Epoch 79/100\n",
            "8000/8000 [==============================] - 1s 117us/step - loss: 0.3295 - acc: 0.8651\n",
            "Epoch 80/100\n",
            "8000/8000 [==============================] - 1s 118us/step - loss: 0.3297 - acc: 0.8649\n",
            "Epoch 81/100\n",
            "8000/8000 [==============================] - 1s 116us/step - loss: 0.3294 - acc: 0.8622\n",
            "Epoch 82/100\n",
            "8000/8000 [==============================] - 1s 115us/step - loss: 0.3294 - acc: 0.8640\n",
            "Epoch 83/100\n",
            "8000/8000 [==============================] - 1s 117us/step - loss: 0.3295 - acc: 0.8657\n",
            "Epoch 84/100\n",
            "8000/8000 [==============================] - 1s 118us/step - loss: 0.3294 - acc: 0.8639\n",
            "Epoch 85/100\n",
            "8000/8000 [==============================] - 1s 116us/step - loss: 0.3291 - acc: 0.8642\n",
            "Epoch 86/100\n",
            "8000/8000 [==============================] - 1s 118us/step - loss: 0.3296 - acc: 0.8640\n",
            "Epoch 87/100\n",
            "8000/8000 [==============================] - 1s 119us/step - loss: 0.3293 - acc: 0.8639\n",
            "Epoch 88/100\n",
            "8000/8000 [==============================] - 1s 118us/step - loss: 0.3296 - acc: 0.8636\n",
            "Epoch 89/100\n",
            "8000/8000 [==============================] - 1s 119us/step - loss: 0.3293 - acc: 0.8652\n",
            "Epoch 90/100\n",
            "8000/8000 [==============================] - 1s 117us/step - loss: 0.3291 - acc: 0.8651\n",
            "Epoch 91/100\n",
            "8000/8000 [==============================] - 1s 116us/step - loss: 0.3293 - acc: 0.8659\n",
            "Epoch 92/100\n",
            "8000/8000 [==============================] - 1s 116us/step - loss: 0.3293 - acc: 0.8651\n",
            "Epoch 93/100\n",
            "8000/8000 [==============================] - 1s 117us/step - loss: 0.3297 - acc: 0.8634\n",
            "Epoch 94/100\n",
            "8000/8000 [==============================] - 1s 118us/step - loss: 0.3295 - acc: 0.8654\n",
            "Epoch 95/100\n",
            "8000/8000 [==============================] - 1s 118us/step - loss: 0.3288 - acc: 0.8641\n",
            "Epoch 96/100\n",
            "8000/8000 [==============================] - 1s 117us/step - loss: 0.3294 - acc: 0.8627\n",
            "Epoch 97/100\n",
            "8000/8000 [==============================] - 1s 119us/step - loss: 0.3295 - acc: 0.8636\n",
            "Epoch 98/100\n",
            "8000/8000 [==============================] - 1s 118us/step - loss: 0.3294 - acc: 0.8641\n",
            "Epoch 99/100\n",
            "8000/8000 [==============================] - 1s 119us/step - loss: 0.3291 - acc: 0.8646\n",
            "Epoch 100/100\n",
            "8000/8000 [==============================] - 1s 116us/step - loss: 0.3292 - acc: 0.8651\n"
          ],
          "name": "stdout"
        },
        {
          "output_type": "execute_result",
          "data": {
            "text/plain": [
              "<keras.callbacks.History at 0x7f99b81685f8>"
            ]
          },
          "metadata": {
            "tags": []
          },
          "execution_count": 28
        }
      ]
    },
    {
      "cell_type": "code",
      "metadata": {
        "id": "2XK0-gNESG5p",
        "colab_type": "code",
        "outputId": "7331caa4-59ef-4c3f-8e09-18cee281041b",
        "colab": {
          "base_uri": "https://localhost:8080/",
          "height": 128
        }
      },
      "source": [
        "#Now time for prediction\n",
        "y_pred=clf.predict(x)\n",
        "if y_pred > 0.5:"
      ],
      "execution_count": 0,
      "outputs": [
        {
          "output_type": "error",
          "ename": "SyntaxError",
          "evalue": "ignored",
          "traceback": [
            "\u001b[0;36m  File \u001b[0;32m\"<ipython-input-31-878fe948bf66>\"\u001b[0;36m, line \u001b[0;32m2\u001b[0m\n\u001b[0;31m    if y_pred > 0.5:\u001b[0m\n\u001b[0m                    ^\u001b[0m\n\u001b[0;31mSyntaxError\u001b[0m\u001b[0;31m:\u001b[0m unexpected EOF while parsing\n"
          ]
        }
      ]
    },
    {
      "cell_type": "code",
      "metadata": {
        "id": "2HJ8gytBWlsL",
        "colab_type": "code",
        "colab": {}
      },
      "source": [
        "\n"
      ],
      "execution_count": 0,
      "outputs": []
    }
  ]
}