{
  "nbformat": 4,
  "nbformat_minor": 0,
  "metadata": {
    "colab": {
      "name": "Untitled0.ipynb",
      "version": "0.3.2",
      "provenance": [],
      "include_colab_link": true
    },
    "kernelspec": {
      "name": "python3",
      "display_name": "Python 3"
    }
  },
  "cells": [
    {
      "cell_type": "markdown",
      "metadata": {
        "id": "view-in-github",
        "colab_type": "text"
      },
      "source": [
        "<a href=\"https://colab.research.google.com/github/karanchhatwani/Summer19_karan/blob/master/Tweepy.ipynb\" target=\"_parent\"><img src=\"https://colab.research.google.com/assets/colab-badge.svg\" alt=\"Open In Colab\"/></a>"
      ]
    },
    {
      "cell_type": "code",
      "metadata": {
        "id": "DKFAefxCMnt6",
        "colab_type": "code",
        "colab": {}
      },
      "source": [
        "import tweepy\n",
        "import time\n",
        "from textblob import TextBlob\n",
        "import matplotlib.pyplot as plt"
      ],
      "execution_count": 0,
      "outputs": []
    },
    {
      "cell_type": "code",
      "metadata": {
        "id": "tDH8usk9MpoZ",
        "colab_type": "code",
        "colab": {}
      },
      "source": [
        "consumer_key = \"SAF0oBICAqPjKDN1mUAmvw537\" \n",
        "consumer_secret = \"B17IvfRhZd0vC75hBWjWjMkrN8UzZhDxnWWv1fIiPuNHzbpVAj\"\n",
        "access_key = \"777005032080191488-1GAKcH2hX916EovqmuKSrmvb0xAmk1D\"\n",
        "access_secret = \"tRsoeQI7vP5wmoJynsRwwIILAy4JRcNObG0zHtzq5utAq\"\n"
      ],
      "execution_count": 0,
      "outputs": []
    },
    {
      "cell_type": "code",
      "metadata": {
        "id": "cqEjYryaPAT7",
        "colab_type": "code",
        "colab": {}
      },
      "source": [
        "#dir(tweepy)\n",
        "auth = tweepy.OAuthHandler(consumer_key, consumer_secret) \n",
        "auth.set_access_token(access_key, access_secret) \n"
      ],
      "execution_count": 0,
      "outputs": []
    },
    {
      "cell_type": "code",
      "metadata": {
        "id": "2MigAaurPC3j",
        "colab_type": "code",
        "colab": {
          "base_uri": "https://localhost:8080/",
          "height": 2810
        },
        "outputId": "1c233d50-fc6d-405d-9f30-7ee5cfd66549"
      },
      "source": [
        "api_connect=tweepy.API(auth)\n",
        "#now API is connected and you can search any topic\n",
        "tweets=api_connect.search('virat',count=1000)\n",
        "#Printing in text form only\n",
        "pos=0\n",
        "neg=0\n",
        "neu=0\n",
        "for tweet in tweets:\n",
        "  analysis=TextBlob(tweet.text)\n",
        "  #print(tweet.text)\n",
        "  print(analysis.sentiment)\n",
        "  if analysis.sentiment.polarity > 0 :\n",
        "    print(\"Positive sentiment\")\n",
        "    pos=pos+1\n",
        "  elif analysis.sentiment.polarity == 0 :\n",
        "    print(\"Neutral sentiment\")\n",
        "    neu=neu+1\n",
        "  else :\n",
        "    print(\"Negative\")\n",
        "    neg=neg+1\n",
        "  #Polarity varies between -1 ---- 0 ---- +1\n",
        "#Subjectivity \n",
        "print(pos,neg,neu)"
      ],
      "execution_count": 40,
      "outputs": [
        {
          "output_type": "stream",
          "text": [
            "Sentiment(polarity=0.10000000000000002, subjectivity=0.3833333333333333)\n",
            "Positive sentiment\n",
            "Sentiment(polarity=0.10000000000000002, subjectivity=0.3833333333333333)\n",
            "Positive sentiment\n",
            "Sentiment(polarity=0.0, subjectivity=0.0)\n",
            "Neutral sentiment\n",
            "Sentiment(polarity=0.5, subjectivity=1.0)\n",
            "Positive sentiment\n",
            "Sentiment(polarity=0.0, subjectivity=0.0)\n",
            "Neutral sentiment\n",
            "Sentiment(polarity=0.0, subjectivity=0.0)\n",
            "Neutral sentiment\n",
            "Sentiment(polarity=0.8, subjectivity=0.26)\n",
            "Positive sentiment\n",
            "Sentiment(polarity=0.5, subjectivity=1.0)\n",
            "Positive sentiment\n",
            "Sentiment(polarity=0.0, subjectivity=0.0)\n",
            "Neutral sentiment\n",
            "Sentiment(polarity=0.10000000000000002, subjectivity=0.3833333333333333)\n",
            "Positive sentiment\n",
            "Sentiment(polarity=0.0, subjectivity=0.0)\n",
            "Neutral sentiment\n",
            "Sentiment(polarity=0.10000000000000002, subjectivity=0.3833333333333333)\n",
            "Positive sentiment\n",
            "Sentiment(polarity=0.10000000000000002, subjectivity=0.3833333333333333)\n",
            "Positive sentiment\n",
            "Sentiment(polarity=-0.5, subjectivity=0.65)\n",
            "Negative\n",
            "Sentiment(polarity=0.0, subjectivity=0.0)\n",
            "Neutral sentiment\n",
            "Sentiment(polarity=0.5, subjectivity=0.35)\n",
            "Positive sentiment\n",
            "Sentiment(polarity=0.55, subjectivity=0.35)\n",
            "Positive sentiment\n",
            "Sentiment(polarity=0.5, subjectivity=1.0)\n",
            "Positive sentiment\n",
            "Sentiment(polarity=0.85, subjectivity=1.0)\n",
            "Positive sentiment\n",
            "Sentiment(polarity=0.0, subjectivity=0.0)\n",
            "Neutral sentiment\n",
            "Sentiment(polarity=0.0, subjectivity=0.0)\n",
            "Neutral sentiment\n",
            "Sentiment(polarity=0.0, subjectivity=0.0)\n",
            "Neutral sentiment\n",
            "Sentiment(polarity=0.5, subjectivity=1.0)\n",
            "Positive sentiment\n",
            "Sentiment(polarity=-0.5, subjectivity=1.0)\n",
            "Negative\n",
            "Sentiment(polarity=0.0, subjectivity=0.0)\n",
            "Neutral sentiment\n",
            "Sentiment(polarity=0.0, subjectivity=0.0)\n",
            "Neutral sentiment\n",
            "Sentiment(polarity=0.16, subjectivity=0.5399999999999999)\n",
            "Positive sentiment\n",
            "Sentiment(polarity=0.0, subjectivity=0.0)\n",
            "Neutral sentiment\n",
            "Sentiment(polarity=0.5, subjectivity=0.75)\n",
            "Positive sentiment\n",
            "Sentiment(polarity=0.16, subjectivity=0.5399999999999999)\n",
            "Positive sentiment\n",
            "Sentiment(polarity=0.10000000000000002, subjectivity=0.3833333333333333)\n",
            "Positive sentiment\n",
            "Sentiment(polarity=0.0, subjectivity=0.0)\n",
            "Neutral sentiment\n",
            "Sentiment(polarity=0.0, subjectivity=0.0)\n",
            "Neutral sentiment\n",
            "Sentiment(polarity=0.0, subjectivity=0.0)\n",
            "Neutral sentiment\n",
            "Sentiment(polarity=0.16, subjectivity=0.5399999999999999)\n",
            "Positive sentiment\n",
            "Sentiment(polarity=0.0, subjectivity=0.0)\n",
            "Neutral sentiment\n",
            "Sentiment(polarity=-0.15555555555555559, subjectivity=0.2888888888888889)\n",
            "Negative\n",
            "Sentiment(polarity=0.0, subjectivity=0.0)\n",
            "Neutral sentiment\n",
            "Sentiment(polarity=0.0, subjectivity=0.0)\n",
            "Neutral sentiment\n",
            "Sentiment(polarity=0.0, subjectivity=0.0)\n",
            "Neutral sentiment\n",
            "Sentiment(polarity=0.0, subjectivity=0.06666666666666667)\n",
            "Neutral sentiment\n",
            "Sentiment(polarity=0.0, subjectivity=0.06666666666666667)\n",
            "Neutral sentiment\n",
            "Sentiment(polarity=0.5, subjectivity=1.0)\n",
            "Positive sentiment\n",
            "Sentiment(polarity=0.0, subjectivity=0.0)\n",
            "Neutral sentiment\n",
            "Sentiment(polarity=0.5, subjectivity=1.0)\n",
            "Positive sentiment\n",
            "Sentiment(polarity=0.18333333333333338, subjectivity=0.8)\n",
            "Positive sentiment\n",
            "Sentiment(polarity=0.10000000000000002, subjectivity=0.3833333333333333)\n",
            "Positive sentiment\n",
            "Sentiment(polarity=0.0, subjectivity=0.0)\n",
            "Neutral sentiment\n",
            "Sentiment(polarity=0.0, subjectivity=0.0)\n",
            "Neutral sentiment\n",
            "Sentiment(polarity=0.0, subjectivity=0.0)\n",
            "Neutral sentiment\n",
            "Sentiment(polarity=0.0, subjectivity=0.0)\n",
            "Neutral sentiment\n",
            "Sentiment(polarity=-0.5, subjectivity=1.0)\n",
            "Negative\n",
            "Sentiment(polarity=0.5, subjectivity=1.0)\n",
            "Positive sentiment\n",
            "Sentiment(polarity=0.0, subjectivity=0.0)\n",
            "Neutral sentiment\n",
            "Sentiment(polarity=0.0, subjectivity=0.0)\n",
            "Neutral sentiment\n",
            "Sentiment(polarity=1.0, subjectivity=0.3)\n",
            "Positive sentiment\n",
            "Sentiment(polarity=0.0, subjectivity=0.0)\n",
            "Neutral sentiment\n",
            "Sentiment(polarity=0.0, subjectivity=0.0)\n",
            "Neutral sentiment\n",
            "Sentiment(polarity=0.0, subjectivity=0.0)\n",
            "Neutral sentiment\n",
            "Sentiment(polarity=0.16, subjectivity=0.5399999999999999)\n",
            "Positive sentiment\n",
            "Sentiment(polarity=0.5, subjectivity=0.75)\n",
            "Positive sentiment\n",
            "Sentiment(polarity=0.16, subjectivity=0.5399999999999999)\n",
            "Positive sentiment\n",
            "Sentiment(polarity=0.5, subjectivity=1.0)\n",
            "Positive sentiment\n",
            "Sentiment(polarity=0.8, subjectivity=0.26)\n",
            "Positive sentiment\n",
            "Sentiment(polarity=-0.15000000000000002, subjectivity=0.75)\n",
            "Negative\n",
            "Sentiment(polarity=0.0, subjectivity=0.0)\n",
            "Neutral sentiment\n",
            "Sentiment(polarity=0.10000000000000002, subjectivity=0.3833333333333333)\n",
            "Positive sentiment\n",
            "Sentiment(polarity=0.0, subjectivity=0.0)\n",
            "Neutral sentiment\n",
            "Sentiment(polarity=0.0, subjectivity=0.0)\n",
            "Neutral sentiment\n",
            "Sentiment(polarity=0.0, subjectivity=0.0)\n",
            "Neutral sentiment\n",
            "Sentiment(polarity=0.0, subjectivity=0.0)\n",
            "Neutral sentiment\n",
            "Sentiment(polarity=0.0, subjectivity=0.0)\n",
            "Neutral sentiment\n",
            "Sentiment(polarity=0.5, subjectivity=1.0)\n",
            "Positive sentiment\n",
            "Sentiment(polarity=0.0, subjectivity=0.0)\n",
            "Neutral sentiment\n",
            "Sentiment(polarity=0.25, subjectivity=0.4444444444444444)\n",
            "Positive sentiment\n",
            "Sentiment(polarity=0.5, subjectivity=1.0)\n",
            "Positive sentiment\n",
            "Sentiment(polarity=0.5, subjectivity=1.0)\n",
            "Positive sentiment\n",
            "Sentiment(polarity=0.3125, subjectivity=0.25)\n",
            "Positive sentiment\n",
            "Sentiment(polarity=0.0, subjectivity=0.0)\n",
            "Neutral sentiment\n",
            "Sentiment(polarity=0.16, subjectivity=0.5399999999999999)\n",
            "Positive sentiment\n",
            "Sentiment(polarity=0.0, subjectivity=0.0)\n",
            "Neutral sentiment\n",
            "Sentiment(polarity=0.5, subjectivity=0.75)\n",
            "Positive sentiment\n",
            "Sentiment(polarity=0.375, subjectivity=0.5)\n",
            "Positive sentiment\n",
            "38 5 40\n"
          ],
          "name": "stdout"
        }
      ]
    },
    {
      "cell_type": "code",
      "metadata": {
        "id": "i87eQgCsQ43c",
        "colab_type": "code",
        "colab": {
          "base_uri": "https://localhost:8080/",
          "height": 283
        },
        "outputId": "d48028e8-677a-48f0-f32e-109f497595b9"
      },
      "source": [
        "plt.xlabel(\"Sentiments\")\n",
        "plt.ylabel(\"Count\")\n",
        "plt.bar([\"positive\", \"Negative\", \"Neutral\"],[pos,neg,neu])\n",
        "plt.show()"
      ],
      "execution_count": 41,
      "outputs": [
        {
          "output_type": "display_data",
          "data": {
            "image/png": "[encoded data removed]",
            "text/plain": [
              "<Figure size 432x288 with 1 Axes>"
            ]
          },
          "metadata": {
            "tags": []
          }
        }
      ]
    },
    {
      "cell_type": "code",
      "metadata": {
        "id": "vRa0us4NPcA_",
        "colab_type": "code",
        "colab": {}
      },
      "source": [
        ""
      ],
      "execution_count": 0,
      "outputs": []
    }
  ]
}