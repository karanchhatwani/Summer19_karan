{
  "nbformat": 4,
  "nbformat_minor": 0,
  "metadata": {
    "colab": {
      "name": "Tensorflow.ipynb",
      "version": "0.3.2",
      "provenance": [],
      "include_colab_link": true
    },
    "kernelspec": {
      "name": "python3",
      "display_name": "Python 3"
    }
  },
  "cells": [
    {
      "cell_type": "markdown",
      "metadata": {
        "id": "view-in-github",
        "colab_type": "text"
      },
      "source": [
        "<a href=\"https://colab.research.google.com/github/karanchhatwani/Summer19_karan/blob/master/Tflow.ipynb\" target=\"_parent\"><img src=\"https://colab.research.google.com/assets/colab-badge.svg\" alt=\"Open In Colab\"/></a>"
      ]
    },
    {
      "cell_type": "code",
      "metadata": {
        "id": "5s7UXxkpvcdk",
        "colab_type": "code",
        "colab": {
          "base_uri": "https://localhost:8080/",
          "height": 33
        },
        "outputId": "97504497-9885-4c94-9b42-f4f761e71e0a"
      },
      "source": [
        "import tensorflow as tf\n",
        "#Creating constant\n",
        "x=tf.constant(20)\n",
        "y=tf.constant(30)\n",
        "#adding numbers\n",
        "c=x+y\n",
        "c #state saved "
      ],
      "execution_count": 1,
      "outputs": [
        {
          "output_type": "execute_result",
          "data": {
            "text/plain": [
              "<tf.Tensor 'add:0' shape=() dtype=int32>"
            ]
          },
          "metadata": {
            "tags": []
          },
          "execution_count": 1
        }
      ]
    },
    {
      "cell_type": "code",
      "metadata": {
        "id": "YYIvf_g7vrb6",
        "colab_type": "code",
        "colab": {
          "base_uri": "https://localhost:8080/",
          "height": 33
        },
        "outputId": "6e000fb0-3d4a-40c3-adf2-b3f37a5ad7ae"
      },
      "source": [
        "# Tensorflow as session that can connect with any of the resources (CPU,GPU or TPU)\n",
        "with tf.Session() as sess: #This is equal to 1,2,3 given below.\n",
        "  '''\n",
        "  1. sess=tf.Session\n",
        "  2. using this 'sess'\n",
        "  3. sess.close()\n",
        "  '''\n",
        "  output=sess.run(c) #Run method will connect with CPU, GPU or TPU.\n",
        "  #tf.summary.FileWriter(sess.graph)\n",
        "  print(output)"
      ],
      "execution_count": 3,
      "outputs": [
        {
          "output_type": "stream",
          "text": [
            "50\n"
          ],
          "name": "stdout"
        }
      ]
    },
    {
      "cell_type": "code",
      "metadata": {
        "id": "vKsX5wn2v6u1",
        "colab_type": "code",
        "colab": {}
      },
      "source": [
        ""
      ],
      "execution_count": 0,
      "outputs": []
    }
  ]
}