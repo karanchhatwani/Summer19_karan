{
  "nbformat": 4,
  "nbformat_minor": 0,
  "metadata": {
    "colab": {
      "name": "Untitled2.ipynb",
      "version": "0.3.2",
      "provenance": [],
      "include_colab_link": true
    },
    "kernelspec": {
      "name": "python3",
      "display_name": "Python 3"
    }
  },
  "cells": [
    {
      "cell_type": "markdown",
      "metadata": {
        "id": "view-in-github",
        "colab_type": "text"
      },
      "source": [
        "<a href=\"https://colab.research.google.com/github/karanchhatwani/Summer19_karan/blob/master/Instagram.ipynb\" target=\"_parent\"><img src=\"https://colab.research.google.com/assets/colab-badge.svg\" alt=\"Open In Colab\"/></a>"
      ]
    },
    {
      "cell_type": "code",
      "metadata": {
        "id": "P6hgk4nZERnr",
        "colab_type": "code",
        "colab": {
          "base_uri": "https://localhost:8080/",
          "height": 992
        },
        "outputId": "ff0c4387-d109-4597-9916-298ed12b88ce"
      },
      "source": [
        "pip install InstagramAPI"
      ],
      "execution_count": 2,
      "outputs": [
        {
          "output_type": "stream",
          "text": [
            "Collecting InstagramAPI\n",
            "  Downloading https://files.pythonhosted.org/packages/15/6d/f7eba7679fb40acb33ac75960c1aff269c2a75b32aff106266c85e3c0b93/InstagramAPI-1.0.2.tar.gz\n",
            "Collecting requests==2.11.1 (from InstagramAPI)\n",
            "\u001b[?25l  Downloading https://files.pythonhosted.org/packages/ea/03/92d3278bf8287c5caa07dbd9ea139027d5a3592b0f4d14abf072f890fab2/requests-2.11.1-py2.py3-none-any.whl (514kB)\n",
            "\u001b[K     |████████████████████████████████| 522kB 7.7MB/s \n",
            "\u001b[?25hCollecting requests-toolbelt==0.7.0 (from InstagramAPI)\n",
            "\u001b[?25l  Downloading https://files.pythonhosted.org/packages/57/60/cc85ca45c85585191e70e21687aeaa74ec4e555a1404628ba77b8af7d92e/requests_toolbelt-0.7.0-py2.py3-none-any.whl (52kB)\n",
            "\u001b[K     |████████████████████████████████| 61kB 23.0MB/s \n",
            "\u001b[?25hCollecting moviepy==0.2.3.2 (from InstagramAPI)\n",
            "\u001b[?25l  Downloading https://files.pythonhosted.org/packages/e4/1f/fb4b8d9397f7952fcb594cb5df3061f00debae7ea92b3be9881c18b905ab/moviepy-0.2.3.2-py2.py3-none-any.whl (122kB)\n",
            "\u001b[K     |████████████████████████████████| 133kB 52.3MB/s \n",
            "\u001b[?25hCollecting decorator==4.0.11 (from moviepy==0.2.3.2->InstagramAPI)\n",
            "  Downloading https://files.pythonhosted.org/packages/00/cc/dd79ea98a0ff5a01d714c37eddd99cd0a71557113f1511921d1ef9a083b8/decorator-4.0.11-py2.py3-none-any.whl\n",
            "Collecting imageio==2.1.2 (from moviepy==0.2.3.2->InstagramAPI)\n",
            "\u001b[?25l  Downloading https://files.pythonhosted.org/packages/68/31/55cad23b6bd32afee6e4c7eec2f15266665879f8eaf812e3b843205d41ad/imageio-2.1.2.zip (3.3MB)\n",
            "\u001b[K     |████████████████████████████████| 3.3MB 46.5MB/s \n",
            "\u001b[?25hRequirement already satisfied: numpy in /usr/local/lib/python3.6/dist-packages (from moviepy==0.2.3.2->InstagramAPI) (1.16.4)\n",
            "Collecting tqdm==4.11.2 (from moviepy==0.2.3.2->InstagramAPI)\n",
            "\u001b[?25l  Downloading https://files.pythonhosted.org/packages/b7/0d/174388e99e21ee2c91ea318994c3f8744e26158e43cff0ec9d045bf08a96/tqdm-4.11.2-py2.py3-none-any.whl (46kB)\n",
            "\u001b[K     |████████████████████████████████| 51kB 19.2MB/s \n",
            "\u001b[?25hRequirement already satisfied: pillow in /usr/local/lib/python3.6/dist-packages (from imageio==2.1.2->moviepy==0.2.3.2->InstagramAPI) (4.3.0)\n",
            "Requirement already satisfied: olefile in /usr/local/lib/python3.6/dist-packages (from pillow->imageio==2.1.2->moviepy==0.2.3.2->InstagramAPI) (0.46)\n",
            "Building wheels for collected packages: InstagramAPI, imageio\n",
            "  Building wheel for InstagramAPI (setup.py) ... \u001b[?25l\u001b[?25hdone\n",
            "  Stored in directory: /root/.cache/pip/wheels/6c/00/8f/ff713f248704d409ad2c2fc1352ce62b2b4d7d12a75267a911\n",
            "  Building wheel for imageio (setup.py) ... \u001b[?25l\u001b[?25hdone\n",
            "  Stored in directory: /root/.cache/pip/wheels/46/d7/61/fe435bf3dc20403ff38ffed213528ae710b4301ac6b403c582\n",
            "Successfully built InstagramAPI imageio\n",
            "\u001b[31mERROR: spacy 2.1.4 has requirement requests<3.0.0,>=2.13.0, but you'll have requests 2.11.1 which is incompatible.\u001b[0m\n",
            "\u001b[31mERROR: networkx 2.3 has requirement decorator>=4.3.0, but you'll have decorator 4.0.11 which is incompatible.\u001b[0m\n",
            "\u001b[31mERROR: google-colab 1.0.0 has requirement requests~=2.21.0, but you'll have requests 2.11.1 which is incompatible.\u001b[0m\n",
            "\u001b[31mERROR: google-api-core 1.11.1 has requirement requests<3.0.0dev,>=2.18.0, but you'll have requests 2.11.1 which is incompatible.\u001b[0m\n",
            "\u001b[31mERROR: featuretools 0.4.1 has requirement tqdm>=4.19.2, but you'll have tqdm 4.11.2 which is incompatible.\u001b[0m\n",
            "\u001b[31mERROR: datascience 0.10.6 has requirement folium==0.2.1, but you'll have folium 0.8.3 which is incompatible.\u001b[0m\n",
            "\u001b[31mERROR: albumentations 0.1.12 has requirement imgaug<0.2.7,>=0.2.5, but you'll have imgaug 0.2.9 which is incompatible.\u001b[0m\n",
            "Installing collected packages: requests, requests-toolbelt, decorator, imageio, tqdm, moviepy, InstagramAPI\n",
            "  Found existing installation: requests 2.21.0\n",
            "    Uninstalling requests-2.21.0:\n",
            "      Successfully uninstalled requests-2.21.0\n",
            "  Found existing installation: decorator 4.4.0\n",
            "    Uninstalling decorator-4.4.0:\n",
            "      Successfully uninstalled decorator-4.4.0\n",
            "  Found existing installation: imageio 2.4.1\n",
            "    Uninstalling imageio-2.4.1:\n",
            "      Successfully uninstalled imageio-2.4.1\n",
            "  Found existing installation: tqdm 4.28.1\n",
            "    Uninstalling tqdm-4.28.1:\n",
            "      Successfully uninstalled tqdm-4.28.1\n",
            "  Found existing installation: moviepy 0.2.3.5\n",
            "    Uninstalling moviepy-0.2.3.5:\n",
            "      Successfully uninstalled moviepy-0.2.3.5\n",
            "Successfully installed InstagramAPI-1.0.2 decorator-4.0.11 imageio-2.1.2 moviepy-0.2.3.2 requests-2.11.1 requests-toolbelt-0.7.0 tqdm-4.11.2\n"
          ],
          "name": "stdout"
        },
        {
          "output_type": "display_data",
          "data": {
            "application/vnd.colab-display-data+json": {
              "pip_warning": {
                "packages": [
                  "decorator",
                  "requests",
                  "tqdm"
                ]
              }
            }
          },
          "metadata": {
            "tags": []
          }
        }
      ]
    },
    {
      "cell_type": "code",
      "metadata": {
        "id": "q6DAGGVdESaD",
        "colab_type": "code",
        "colab": {
          "base_uri": "https://localhost:8080/",
          "height": 365
        },
        "outputId": "8627c3a6-a2bb-4db0-8e04-5df792dcd94d"
      },
      "source": [
        "from InstagramAPI import InstagramAPI\n",
        "InstagramAPI = InstagramAPI(\"InstaUsername\", \"InstaPassword\")\n",
        "InstagramAPI.login()  # login\n",
        "\n",
        "photo_path = 'C:\\\\Users\\\\user\\\\insta.jpg'\n",
        "caption = \"Sample photo\"\n",
        "InstagramAPI.uploadPhoto(photo_path, caption=caption)"
      ],
      "execution_count": 3,
      "outputs": [
        {
          "output_type": "stream",
          "text": [
            "Request return 400 error!\n",
            "{'message': 'The password you entered is incorrect. Please try again.', 'invalid_credentials': True, 'error_title': 'Incorrect password for instausername', 'buttons': [{'title': 'Try Again', 'action': 'dismiss'}], 'status': 'fail', 'error_type': 'bad_password'}\n"
          ],
          "name": "stdout"
        },
        {
          "output_type": "error",
          "ename": "AttributeError",
          "evalue": "ignored",
          "traceback": [
            "\u001b[0;31m---------------------------------------------------------------------------\u001b[0m",
            "\u001b[0;31mAttributeError\u001b[0m                            Traceback (most recent call last)",
            "\u001b[0;32m<ipython-input-3-59c15114af98>\u001b[0m in \u001b[0;36m<module>\u001b[0;34m()\u001b[0m\n\u001b[1;32m      5\u001b[0m \u001b[0mphoto_path\u001b[0m \u001b[0;34m=\u001b[0m \u001b[0;34m'C:\\\\Users\\\\user\\\\insta.jpg'\u001b[0m\u001b[0;34m\u001b[0m\u001b[0;34m\u001b[0m\u001b[0m\n\u001b[1;32m      6\u001b[0m \u001b[0mcaption\u001b[0m \u001b[0;34m=\u001b[0m \u001b[0;34m\"Sample photo\"\u001b[0m\u001b[0;34m\u001b[0m\u001b[0;34m\u001b[0m\u001b[0m\n\u001b[0;32m----> 7\u001b[0;31m \u001b[0mInstagramAPI\u001b[0m\u001b[0;34m.\u001b[0m\u001b[0muploadPhoto\u001b[0m\u001b[0;34m(\u001b[0m\u001b[0mphoto_path\u001b[0m\u001b[0;34m,\u001b[0m \u001b[0mcaption\u001b[0m\u001b[0;34m=\u001b[0m\u001b[0mcaption\u001b[0m\u001b[0;34m)\u001b[0m\u001b[0;34m\u001b[0m\u001b[0;34m\u001b[0m\u001b[0m\n\u001b[0m",
            "\u001b[0;32m/usr/local/lib/python3.6/dist-packages/InstagramAPI/InstagramAPI.py\u001b[0m in \u001b[0;36muploadPhoto\u001b[0;34m(self, photo, caption, upload_id, is_sidecar)\u001b[0m\n\u001b[1;32m    144\u001b[0m         data = {'upload_id': upload_id,\n\u001b[1;32m    145\u001b[0m                 \u001b[0;34m'_uuid'\u001b[0m\u001b[0;34m:\u001b[0m \u001b[0mself\u001b[0m\u001b[0;34m.\u001b[0m\u001b[0muuid\u001b[0m\u001b[0;34m,\u001b[0m\u001b[0;34m\u001b[0m\u001b[0;34m\u001b[0m\u001b[0m\n\u001b[0;32m--> 146\u001b[0;31m                 \u001b[0;34m'_csrftoken'\u001b[0m\u001b[0;34m:\u001b[0m \u001b[0mself\u001b[0m\u001b[0;34m.\u001b[0m\u001b[0mtoken\u001b[0m\u001b[0;34m,\u001b[0m\u001b[0;34m\u001b[0m\u001b[0;34m\u001b[0m\u001b[0m\n\u001b[0m\u001b[1;32m    147\u001b[0m                 \u001b[0;34m'image_compression'\u001b[0m\u001b[0;34m:\u001b[0m \u001b[0;34m'{\"lib_name\":\"jt\",\"lib_version\":\"1.3.0\",\"quality\":\"87\"}'\u001b[0m\u001b[0;34m,\u001b[0m\u001b[0;34m\u001b[0m\u001b[0;34m\u001b[0m\u001b[0m\n\u001b[1;32m    148\u001b[0m                 'photo': ('pending_media_%s.jpg' % upload_id, open(photo, 'rb'), 'application/octet-stream', {'Content-Transfer-Encoding': 'binary'})}\n",
            "\u001b[0;31mAttributeError\u001b[0m: 'InstagramAPI' object has no attribute 'token'"
          ]
        }
      ]
    },
    {
      "cell_type": "code",
      "metadata": {
        "id": "skMt5ZpgEe7T",
        "colab_type": "code",
        "colab": {}
      },
      "source": [
        ""
      ],
      "execution_count": 0,
      "outputs": []
    }
  ]
}