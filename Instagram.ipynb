{
  "nbformat": 4,
  "nbformat_minor": 0,
  "metadata": {
    "colab": {
      "name": "Untitled3.ipynb",
      "version": "0.3.2",
      "provenance": [],
      "include_colab_link": true
    },
    "kernelspec": {
      "name": "python3",
      "display_name": "Python 3"
    }
  },
  "cells": [
    {
      "cell_type": "markdown",
      "metadata": {
        "id": "view-in-github",
        "colab_type": "text"
      },
      "source": [
        "<a href=\"https://colab.research.google.com/github/karanchhatwani/Summer19_karan/blob/master/Instagram.ipynb\" target=\"_parent\"><img src=\"https://colab.research.google.com/assets/colab-badge.svg\" alt=\"Open In Colab\"/></a>"
      ]
    },
    {
      "cell_type": "code",
      "metadata": {
        "id": "82RCnxGfFcRZ",
        "colab_type": "code",
        "colab": {}
      },
      "source": [
        "from InstagramAPI import InstagramAPI\n",
        "InstagramAPI = InstagramAPI(\"InstaUsername\", \"InstaPassword\")\n",
        "InstagramAPI.login()  # login\n",
        "\n",
        "photo_path = 'C:\\\\Users\\\\user\\\\insta.jpg'\n",
        "caption = \"Sample photo\"\n",
        "InstagramAPI.uploadPhoto(photo_path, caption=caption)"
      ],
      "execution_count": 0,
      "outputs": []
    }
  ]
}